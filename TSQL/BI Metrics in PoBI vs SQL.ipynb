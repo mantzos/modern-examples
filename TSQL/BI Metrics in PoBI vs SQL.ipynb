{
    "metadata": {
        "kernelspec": {
            "name": "SQL",
            "display_name": "SQL",
            "language": "sql"
        },
        "language_info": {
            "name": "sql",
            "version": ""
        }
    },
    "nbformat_minor": 2,
    "nbformat": 4,
    "cells": [
        {
            "cell_type": "markdown",
            "source": [
                "# BI Metrics in Power BI vs. T-SQL\n",
                "\n",
                "The aim of this notebook is to demonstrate the savings we have in productivity when we use DAX in Power BI (or SSAS) to calculate complex metrics, that are traditionally used in BI work (e.g. YoY and YTD metrics).\n",
                "\n",
                "For this reason we're going to use the [World Wide Importers DW](https://docs.microsoft.com/en-us/sql/samples/wide-world-importers-dw-install-configure?view=sql-server-ver15). I've installed SQL Server on Ubuntu using the instructions [here](https://docs.microsoft.com/en-us/sql/linux/quickstart-install-connect-ubuntu?view=sql-server-ver15), and Azure Data Studio using the instructions [here](https://docs.microsoft.com/en-us/sql/azure-data-studio/download-azure-data-studio?view=sql-server-ver15). Then imported the database as a .bak file, and created this notebook in Azure Data Studio. \n",
                ""
            ],
            "metadata": {
                "azdata_cell_guid": "e1f157c0-51ef-4c65-8e09-3707be8fb303"
            }
        },
        {
            "cell_type": "code",
            "source": [
                "USE WideWorldImportersDW\n",
                "\n",
                "select \n",
                "\n",
                "[Calendar Month Label] [Month]\n",
                ",FORMAT(sum(Quantity),'##,##0.##') [Black Items Sold in 2013]\n",
                "\n",
                "from fact.Sale F\n",
                "\n",
                "join Dimension.Date D \n",
                "on F.[Invoice Date Key]=D.Date\n",
                "\n",
                "join Dimension.[Stock Item] p\n",
                "on p.[Stock Item Key]=F.[Stock Item Key]\n",
                "\n",
                "\n",
                "where p.Color = 'Black'\n",
                "and D.[Calendar Year]=2013\n",
                "\n",
                "group by D.[Calendar Month Number],D.[Calendar Month Label]  --included both so I can order the months\n",
                "order by D.[Calendar Month Number]\n",
                ""
            ],
            "metadata": {
                "azdata_cell_guid": "6b7fc779-b59c-4b45-81ef-45b5c6bc58a6"
            },
            "outputs": [
                {
                    "output_type": "display_data",
                    "data": {
                        "text/html": "(12 rows affected)"
                    },
                    "metadata": {}
                },
                {
                    "output_type": "display_data",
                    "data": {
                        "text/html": "Total execution time: 00:00:01.032"
                    },
                    "metadata": {}
                },
                {
                    "output_type": "execute_result",
                    "metadata": {},
                    "execution_count": 2,
                    "data": {
                        "application/vnd.dataresource+json": {
                            "schema": {
                                "fields": [
                                    {
                                        "name": "Month"
                                    },
                                    {
                                        "name": "Black Items Sold in 2013"
                                    }
                                ]
                            },
                            "data": [
                                {
                                    "0": "CY2013-Jan",
                                    "1": "24,530"
                                },
                                {
                                    "0": "CY2013-Feb",
                                    "1": "17,360"
                                },
                                {
                                    "0": "CY2013-Mar",
                                    "1": "25,717"
                                },
                                {
                                    "0": "CY2013-Apr",
                                    "1": "26,855"
                                },
                                {
                                    "0": "CY2013-May",
                                    "1": "27,158"
                                },
                                {
                                    "0": "CY2013-Jun",
                                    "1": "24,656"
                                },
                                {
                                    "0": "CY2013-Jul",
                                    "1": "26,013"
                                },
                                {
                                    "0": "CY2013-Aug",
                                    "1": "25,101"
                                },
                                {
                                    "0": "CY2013-Sep",
                                    "1": "25,092"
                                },
                                {
                                    "0": "CY2013-Oct",
                                    "1": "25,855"
                                },
                                {
                                    "0": "CY2013-Nov",
                                    "1": "20,988"
                                },
                                {
                                    "0": "CY2013-Dec",
                                    "1": "24,200"
                                }
                            ]
                        },
                        "text/html": [
                            "<table>",
                            "<tr><th>Month</th><th>Black Items Sold in 2013</th></tr>",
                            "<tr><td>CY2013-Jan</td><td>24,530</td></tr>",
                            "<tr><td>CY2013-Feb</td><td>17,360</td></tr>",
                            "<tr><td>CY2013-Mar</td><td>25,717</td></tr>",
                            "<tr><td>CY2013-Apr</td><td>26,855</td></tr>",
                            "<tr><td>CY2013-May</td><td>27,158</td></tr>",
                            "<tr><td>CY2013-Jun</td><td>24,656</td></tr>",
                            "<tr><td>CY2013-Jul</td><td>26,013</td></tr>",
                            "<tr><td>CY2013-Aug</td><td>25,101</td></tr>",
                            "<tr><td>CY2013-Sep</td><td>25,092</td></tr>",
                            "<tr><td>CY2013-Oct</td><td>25,855</td></tr>",
                            "<tr><td>CY2013-Nov</td><td>20,988</td></tr>",
                            "<tr><td>CY2013-Dec</td><td>24,200</td></tr>",
                            "</table>"
                        ]
                    }
                }
            ],
            "execution_count": 2
        }
    ]
}