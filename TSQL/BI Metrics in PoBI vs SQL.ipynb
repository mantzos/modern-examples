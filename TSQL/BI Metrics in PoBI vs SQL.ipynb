{
    "metadata": {
        "kernelspec": {
            "name": "SQL",
            "display_name": "SQL",
            "language": "sql"
        },
        "language_info": {
            "name": "sql",
            "version": ""
        }
    },
    "nbformat_minor": 2,
    "nbformat": 4,
    "cells": [
        {
            "cell_type": "markdown",
            "source": [
                "# BI Metrics in Power BI vs. SQL\n",
                "\n",
                "The aim of this notebook is to demonstrate the savings we have in productivity when we use DAX in Power BI (or SSAS) to calculate complex metrics, instead of T-SQL (e.g. YoY and YTD metrics). For this reason we're going to use the [World Wide Importers DW](https://docs.microsoft.com/en-us/sql/samples/wide-world-importers-dw-install-configure?view=sql-server-ver15). I've installed SQL Server on Ubuntu using the instructions [here](https://docs.microsoft.com/en-us/sql/linux/quickstart-install-connect-ubuntu?view=sql-server-ver15), and Azure Data Studio using the instructions [here](https://docs.microsoft.com/en-us/sql/azure-data-studio/download-azure-data-studio?view=sql-server-ver15). Then imported the database as a .bak file, and created this notebook in Azure Data Studio. At the same time, I've used Power BI Desktop on a Windows VM, and imported all relevant tables there:"
            ],
            "metadata": {
                "azdata_cell_guid": "e1f157c0-51ef-4c65-8e09-3707be8fb303"
            },
            "attachments": {}
        },
        {
            "cell_type": "code",
            "source": [
                "use WideWorldImportersDW\n",
                "\n",
                "select schema_name(t.schema_id) as schema_name,\n",
                "       t.name as table_name\n",
                "from sys.tables t\n",
                "where schema_name(t.schema_id) IN ('Dimension','Fact')\n",
                "order by t.schema_id,table_name;"
            ],
            "metadata": {
                "azdata_cell_guid": "6b7fc779-b59c-4b45-81ef-45b5c6bc58a6"
            },
            "outputs": [
                {
                    "output_type": "display_data",
                    "data": {
                        "text/html": "(14 rows affected)"
                    },
                    "metadata": {}
                },
                {
                    "output_type": "display_data",
                    "data": {
                        "text/html": "Total execution time: 00:00:00.111"
                    },
                    "metadata": {}
                },
                {
                    "output_type": "execute_result",
                    "execution_count": 1,
                    "data": {
                        "application/vnd.dataresource+json": {
                            "schema": {
                                "fields": [
                                    {
                                        "name": "schema_name"
                                    },
                                    {
                                        "name": "table_name"
                                    }
                                ]
                            },
                            "data": [
                                {
                                    "0": "Dimension",
                                    "1": "City"
                                },
                                {
                                    "0": "Dimension",
                                    "1": "Customer"
                                },
                                {
                                    "0": "Dimension",
                                    "1": "Date"
                                },
                                {
                                    "0": "Dimension",
                                    "1": "Employee"
                                },
                                {
                                    "0": "Dimension",
                                    "1": "Payment Method"
                                },
                                {
                                    "0": "Dimension",
                                    "1": "Stock Item"
                                },
                                {
                                    "0": "Dimension",
                                    "1": "Supplier"
                                },
                                {
                                    "0": "Dimension",
                                    "1": "Transaction Type"
                                },
                                {
                                    "0": "Fact",
                                    "1": "Movement"
                                },
                                {
                                    "0": "Fact",
                                    "1": "Order"
                                },
                                {
                                    "0": "Fact",
                                    "1": "Purchase"
                                },
                                {
                                    "0": "Fact",
                                    "1": "Sale"
                                },
                                {
                                    "0": "Fact",
                                    "1": "Stock Holding"
                                },
                                {
                                    "0": "Fact",
                                    "1": "Transaction"
                                }
                            ]
                        },
                        "text/html": "<table><tr><th>schema_name</th><th>table_name</th></tr><tr><td>Dimension</td><td>City</td></tr><tr><td>Dimension</td><td>Customer</td></tr><tr><td>Dimension</td><td>Date</td></tr><tr><td>Dimension</td><td>Employee</td></tr><tr><td>Dimension</td><td>Payment Method</td></tr><tr><td>Dimension</td><td>Stock Item</td></tr><tr><td>Dimension</td><td>Supplier</td></tr><tr><td>Dimension</td><td>Transaction Type</td></tr><tr><td>Fact</td><td>Movement</td></tr><tr><td>Fact</td><td>Order</td></tr><tr><td>Fact</td><td>Purchase</td></tr><tr><td>Fact</td><td>Sale</td></tr><tr><td>Fact</td><td>Stock Holding</td></tr><tr><td>Fact</td><td>Transaction</td></tr></table>"
                    },
                    "metadata": {}
                }
            ],
            "execution_count": 1
        },
        {
            "cell_type": "markdown",
            "source": [
                "Power BI will detect the relationships automatically, as there are foreign keys defined in the database. The part of the data model which is relevant to our example is the below:\n",
                "\n",
                "![](./files/modelpart.png)\n",
                "\n",
                "We also need to mark the 'Dimension.Date' table as a 'Date' table in Power BI:\n",
                "\n",
                "![](./files/MarkDate.png)\n",
                "\n",
                "and sort months by month number:\n",
                "\n",
                "![](./files/SortMonths.png)"
            ],
            "metadata": {
                "azdata_cell_guid": "aa8823a4-c27b-47b2-8f6f-2f2a956e878f"
            },
            "attachments": {}
        },
        {
            "cell_type": "markdown",
            "source": [
                "To calculate YTD (Year To Date) sales per brand for each month of 2014, we'd like something like this:"
            ],
            "metadata": {
                "azdata_cell_guid": "e68cfc79-501a-4ecf-a441-5c93b4c49788"
            },
            "attachments": {}
        },
        {
            "cell_type": "code",
            "source": [
                "select \n",
                " Color\n",
                ",[Month]\n",
                ",FORMAT(SUM(Revenue) OVER (PARTITION BY color  ORDER BY [Month No] ), '##,##0.##') AS [YTD Sales per Color] \n",
                ",FORMAT(Revenue,'##,##0.##')  [Sales per Color]--for ref\n",
                "FROM\n",
                "\n",
                "(select P.[Color] Color\n",
                ",D.[Calendar Month Label] [Month]\n",
                ",D.[Calendar Month Number] [Month No]\n",
                ",sum(F.[Total Excluding Tax]) Revenue\n",
                "\n",
                "from \n",
                "fact.Sale F \n",
                "JOIN dimension.[Stock Item] P on F.[Stock Item Key]=P.[Stock Item Key]\n",
                "JOIN dimension.[Date] D on F.[Invoice Date Key]=D.[Date]\n",
                "\n",
                "where year([invoice date key])=2014\n",
                "\n",
                "group by P.[Color], D.[Calendar Month Number],D.[Calendar Month Label]\n",
                ") NESTED\n",
                "\n",
                "order by color,[Month No]"
            ],
            "metadata": {
                "azdata_cell_guid": "dd7c5c5c-0b3a-4b79-ac03-9a86618fbc78"
            },
            "outputs": [
                {
                    "output_type": "display_data",
                    "data": {
                        "text/html": "(96 rows affected)"
                    },
                    "metadata": {}
                },
                {
                    "output_type": "display_data",
                    "data": {
                        "text/html": "Total execution time: 00:00:00.145"
                    },
                    "metadata": {}
                },
                {
                    "output_type": "execute_result",
                    "execution_count": 2,
                    "data": {
                        "application/vnd.dataresource+json": {
                            "schema": {
                                "fields": [
                                    {
                                        "name": "Color"
                                    },
                                    {
                                        "name": "Month"
                                    },
                                    {
                                        "name": "YTD Sales per Color"
                                    },
                                    {
                                        "name": "Sales per Color"
                                    }
                                ]
                            },
                            "data": [
                                {
                                    "0": "Black",
                                    "1": "CY2014-Jan",
                                    "2": "598,457",
                                    "3": "598,457"
                                },
                                {
                                    "0": "Black",
                                    "1": "CY2014-Feb",
                                    "2": "1,192,999",
                                    "3": "594,542"
                                },
                                {
                                    "0": "Black",
                                    "1": "CY2014-Mar",
                                    "2": "1,752,944",
                                    "3": "559,945"
                                },
                                {
                                    "0": "Black",
                                    "1": "CY2014-Apr",
                                    "2": "2,381,596",
                                    "3": "628,652"
                                },
                                {
                                    "0": "Black",
                                    "1": "CY2014-May",
                                    "2": "3,085,738",
                                    "3": "704,142"
                                },
                                {
                                    "0": "Black",
                                    "1": "CY2014-Jun",
                                    "2": "3,790,080",
                                    "3": "704,342"
                                },
                                {
                                    "0": "Black",
                                    "1": "CY2014-Jul",
                                    "2": "4,553,509",
                                    "3": "763,429"
                                },
                                {
                                    "0": "Black",
                                    "1": "CY2014-Aug",
                                    "2": "5,167,294",
                                    "3": "613,785"
                                },
                                {
                                    "0": "Black",
                                    "1": "CY2014-Sep",
                                    "2": "5,755,181",
                                    "3": "587,887"
                                },
                                {
                                    "0": "Black",
                                    "1": "CY2014-Oct",
                                    "2": "6,394,293",
                                    "3": "639,112"
                                },
                                {
                                    "0": "Black",
                                    "1": "CY2014-Nov",
                                    "2": "7,010,747",
                                    "3": "616,454"
                                },
                                {
                                    "0": "Black",
                                    "1": "CY2014-Dec",
                                    "2": "7,730,006",
                                    "3": "719,259"
                                },
                                {
                                    "0": "Blue",
                                    "1": "CY2014-Jan",
                                    "2": "881,713",
                                    "3": "881,713"
                                },
                                {
                                    "0": "Blue",
                                    "1": "CY2014-Feb",
                                    "2": "1,645,133",
                                    "3": "763,420"
                                },
                                {
                                    "0": "Blue",
                                    "1": "CY2014-Mar",
                                    "2": "2,455,306",
                                    "3": "810,173"
                                },
                                {
                                    "0": "Blue",
                                    "1": "CY2014-Apr",
                                    "2": "3,326,782",
                                    "3": "871,476"
                                },
                                {
                                    "0": "Blue",
                                    "1": "CY2014-May",
                                    "2": "4,171,391",
                                    "3": "844,609"
                                },
                                {
                                    "0": "Blue",
                                    "1": "CY2014-Jun",
                                    "2": "5,121,687",
                                    "3": "950,296"
                                },
                                {
                                    "0": "Blue",
                                    "1": "CY2014-Jul",
                                    "2": "6,035,241",
                                    "3": "913,554"
                                },
                                {
                                    "0": "Blue",
                                    "1": "CY2014-Aug",
                                    "2": "6,917,257",
                                    "3": "882,016"
                                },
                                {
                                    "0": "Blue",
                                    "1": "CY2014-Sep",
                                    "2": "7,693,136",
                                    "3": "775,879"
                                },
                                {
                                    "0": "Blue",
                                    "1": "CY2014-Oct",
                                    "2": "8,659,521",
                                    "3": "966,385"
                                },
                                {
                                    "0": "Blue",
                                    "1": "CY2014-Nov",
                                    "2": "9,506,386",
                                    "3": "846,865"
                                },
                                {
                                    "0": "Blue",
                                    "1": "CY2014-Dec",
                                    "2": "10,340,809",
                                    "3": "834,423"
                                },
                                {
                                    "0": "Gray",
                                    "1": "CY2014-Jan",
                                    "2": "128,800",
                                    "3": "128,800"
                                },
                                {
                                    "0": "Gray",
                                    "1": "CY2014-Feb",
                                    "2": "259,135",
                                    "3": "130,335"
                                },
                                {
                                    "0": "Gray",
                                    "1": "CY2014-Mar",
                                    "2": "389,847",
                                    "3": "130,712"
                                },
                                {
                                    "0": "Gray",
                                    "1": "CY2014-Apr",
                                    "2": "549,571",
                                    "3": "159,724"
                                },
                                {
                                    "0": "Gray",
                                    "1": "CY2014-May",
                                    "2": "713,753",
                                    "3": "164,182"
                                },
                                {
                                    "0": "Gray",
                                    "1": "CY2014-Jun",
                                    "2": "848,489",
                                    "3": "134,736"
                                },
                                {
                                    "0": "Gray",
                                    "1": "CY2014-Jul",
                                    "2": "1,032,435",
                                    "3": "183,946"
                                },
                                {
                                    "0": "Gray",
                                    "1": "CY2014-Aug",
                                    "2": "1,176,326",
                                    "3": "143,891"
                                },
                                {
                                    "0": "Gray",
                                    "1": "CY2014-Sep",
                                    "2": "1,309,687",
                                    "3": "133,361"
                                },
                                {
                                    "0": "Gray",
                                    "1": "CY2014-Oct",
                                    "2": "1,462,375",
                                    "3": "152,688"
                                },
                                {
                                    "0": "Gray",
                                    "1": "CY2014-Nov",
                                    "2": "1,602,484",
                                    "3": "140,109"
                                },
                                {
                                    "0": "Gray",
                                    "1": "CY2014-Dec",
                                    "2": "1,746,304",
                                    "3": "143,820"
                                },
                                {
                                    "0": "Light Brown",
                                    "1": "CY2014-Jan",
                                    "2": "129,600",
                                    "3": "129,600"
                                },
                                {
                                    "0": "Light Brown",
                                    "1": "CY2014-Feb",
                                    "2": "223,776",
                                    "3": "94,176"
                                },
                                {
                                    "0": "Light Brown",
                                    "1": "CY2014-Mar",
                                    "2": "355,104",
                                    "3": "131,328"
                                },
                                {
                                    "0": "Light Brown",
                                    "1": "CY2014-Apr",
                                    "2": "485,136",
                                    "3": "130,032"
                                },
                                {
                                    "0": "Light Brown",
                                    "1": "CY2014-May",
                                    "2": "610,848",
                                    "3": "125,712"
                                },
                                {
                                    "0": "Light Brown",
                                    "1": "CY2014-Jun",
                                    "2": "749,952",
                                    "3": "139,104"
                                },
                                {
                                    "0": "Light Brown",
                                    "1": "CY2014-Jul",
                                    "2": "868,752",
                                    "3": "118,800"
                                },
                                {
                                    "0": "Light Brown",
                                    "1": "CY2014-Aug",
                                    "2": "984,096",
                                    "3": "115,344"
                                },
                                {
                                    "0": "Light Brown",
                                    "1": "CY2014-Sep",
                                    "2": "1,084,536",
                                    "3": "100,440"
                                },
                                {
                                    "0": "Light Brown",
                                    "1": "CY2014-Oct",
                                    "2": "1,224,936",
                                    "3": "140,400"
                                },
                                {
                                    "0": "Light Brown",
                                    "1": "CY2014-Nov",
                                    "2": "1,338,336",
                                    "3": "113,400"
                                },
                                {
                                    "0": "Light Brown",
                                    "1": "CY2014-Dec",
                                    "2": "1,470,528",
                                    "3": "132,192"
                                },
                                {
                                    "0": "N/A",
                                    "1": "CY2014-Jan",
                                    "2": "1,789,895",
                                    "3": "1,789,895"
                                },
                                {
                                    "0": "N/A",
                                    "1": "CY2014-Feb",
                                    "2": "3,235,659.2",
                                    "3": "1,445,764.2"
                                },
                                {
                                    "0": "N/A",
                                    "1": "CY2014-Mar",
                                    "2": "4,965,660.95",
                                    "3": "1,730,001.75"
                                },
                                {
                                    "0": "N/A",
                                    "1": "CY2014-Apr",
                                    "2": "6,758,695.6",
                                    "3": "1,793,034.65"
                                },
                                {
                                    "0": "N/A",
                                    "1": "CY2014-May",
                                    "2": "8,976,280.7",
                                    "3": "2,217,585.1"
                                },
                                {
                                    "0": "N/A",
                                    "1": "CY2014-Jun",
                                    "2": "10,733,784.8",
                                    "3": "1,757,504.1"
                                },
                                {
                                    "0": "N/A",
                                    "1": "CY2014-Jul",
                                    "2": "13,003,023.85",
                                    "3": "2,269,239.05"
                                },
                                {
                                    "0": "N/A",
                                    "1": "CY2014-Aug",
                                    "2": "14,873,184.45",
                                    "3": "1,870,160.6"
                                },
                                {
                                    "0": "N/A",
                                    "1": "CY2014-Sep",
                                    "2": "16,678,072.3",
                                    "3": "1,804,887.85"
                                },
                                {
                                    "0": "N/A",
                                    "1": "CY2014-Oct",
                                    "2": "18,645,384.95",
                                    "3": "1,967,312.65"
                                },
                                {
                                    "0": "N/A",
                                    "1": "CY2014-Nov",
                                    "2": "20,472,383.4",
                                    "3": "1,826,998.45"
                                },
                                {
                                    "0": "N/A",
                                    "1": "CY2014-Dec",
                                    "2": "22,460,586.2",
                                    "3": "1,988,202.8"
                                },
                                {
                                    "0": "Red",
                                    "1": "CY2014-Jan",
                                    "2": "95,240",
                                    "3": "95,240"
                                },
                                {
                                    "0": "Red",
                                    "1": "CY2014-Feb",
                                    "2": "185,025",
                                    "3": "89,785"
                                },
                                {
                                    "0": "Red",
                                    "1": "CY2014-Mar",
                                    "2": "298,210",
                                    "3": "113,185"
                                },
                                {
                                    "0": "Red",
                                    "1": "CY2014-Apr",
                                    "2": "416,460",
                                    "3": "118,250"
                                },
                                {
                                    "0": "Red",
                                    "1": "CY2014-May",
                                    "2": "535,145",
                                    "3": "118,685"
                                },
                                {
                                    "0": "Red",
                                    "1": "CY2014-Jun",
                                    "2": "681,280",
                                    "3": "146,135"
                                },
                                {
                                    "0": "Red",
                                    "1": "CY2014-Jul",
                                    "2": "790,335",
                                    "3": "109,055"
                                },
                                {
                                    "0": "Red",
                                    "1": "CY2014-Aug",
                                    "2": "893,950",
                                    "3": "103,615"
                                },
                                {
                                    "0": "Red",
                                    "1": "CY2014-Sep",
                                    "2": "1,002,815",
                                    "3": "108,865"
                                },
                                {
                                    "0": "Red",
                                    "1": "CY2014-Oct",
                                    "2": "1,121,420",
                                    "3": "118,605"
                                },
                                {
                                    "0": "Red",
                                    "1": "CY2014-Nov",
                                    "2": "1,212,285",
                                    "3": "90,865"
                                },
                                {
                                    "0": "Red",
                                    "1": "CY2014-Dec",
                                    "2": "1,308,905",
                                    "3": "96,620"
                                },
                                {
                                    "0": "White",
                                    "1": "CY2014-Jan",
                                    "2": "410,203",
                                    "3": "410,203"
                                },
                                {
                                    "0": "White",
                                    "1": "CY2014-Feb",
                                    "2": "741,245",
                                    "3": "331,042"
                                },
                                {
                                    "0": "White",
                                    "1": "CY2014-Mar",
                                    "2": "1,100,829",
                                    "3": "359,584"
                                },
                                {
                                    "0": "White",
                                    "1": "CY2014-Apr",
                                    "2": "1,461,530",
                                    "3": "360,701"
                                },
                                {
                                    "0": "White",
                                    "1": "CY2014-May",
                                    "2": "1,838,814",
                                    "3": "377,284"
                                },
                                {
                                    "0": "White",
                                    "1": "CY2014-Jun",
                                    "2": "2,232,106",
                                    "3": "393,292"
                                },
                                {
                                    "0": "White",
                                    "1": "CY2014-Jul",
                                    "2": "2,628,734",
                                    "3": "396,628"
                                },
                                {
                                    "0": "White",
                                    "1": "CY2014-Aug",
                                    "2": "2,951,917",
                                    "3": "323,183"
                                },
                                {
                                    "0": "White",
                                    "1": "CY2014-Sep",
                                    "2": "3,285,316",
                                    "3": "333,399"
                                },
                                {
                                    "0": "White",
                                    "1": "CY2014-Oct",
                                    "2": "3,698,737",
                                    "3": "413,421"
                                },
                                {
                                    "0": "White",
                                    "1": "CY2014-Nov",
                                    "2": "4,054,648",
                                    "3": "355,911"
                                },
                                {
                                    "0": "White",
                                    "1": "CY2014-Dec",
                                    "2": "4,449,889",
                                    "3": "395,241"
                                },
                                {
                                    "0": "Yellow",
                                    "1": "CY2014-Jan",
                                    "2": "33,630",
                                    "3": "33,630"
                                },
                                {
                                    "0": "Yellow",
                                    "1": "CY2014-Feb",
                                    "2": "54,775",
                                    "3": "21,145"
                                },
                                {
                                    "0": "Yellow",
                                    "1": "CY2014-Mar",
                                    "2": "81,775",
                                    "3": "27,000"
                                },
                                {
                                    "0": "Yellow",
                                    "1": "CY2014-Apr",
                                    "2": "115,140",
                                    "3": "33,365"
                                },
                                {
                                    "0": "Yellow",
                                    "1": "CY2014-May",
                                    "2": "153,580",
                                    "3": "38,440"
                                },
                                {
                                    "0": "Yellow",
                                    "1": "CY2014-Jun",
                                    "2": "194,815",
                                    "3": "41,235"
                                },
                                {
                                    "0": "Yellow",
                                    "1": "CY2014-Jul",
                                    "2": "226,465",
                                    "3": "31,650"
                                },
                                {
                                    "0": "Yellow",
                                    "1": "CY2014-Aug",
                                    "2": "259,960",
                                    "3": "33,495"
                                },
                                {
                                    "0": "Yellow",
                                    "1": "CY2014-Sep",
                                    "2": "298,210",
                                    "3": "38,250"
                                },
                                {
                                    "0": "Yellow",
                                    "1": "CY2014-Oct",
                                    "2": "338,970",
                                    "3": "40,760"
                                },
                                {
                                    "0": "Yellow",
                                    "1": "CY2014-Nov",
                                    "2": "367,335",
                                    "3": "28,365"
                                },
                                {
                                    "0": "Yellow",
                                    "1": "CY2014-Dec",
                                    "2": "422,460",
                                    "3": "55,125"
                                }
                            ]
                        },
                        "text/html": "<table><tr><th>Color</th><th>Month</th><th>YTD Sales per Color</th><th>Sales per Color</th></tr><tr><td>Black</td><td>CY2014-Jan</td><td>598,457</td><td>598,457</td></tr><tr><td>Black</td><td>CY2014-Feb</td><td>1,192,999</td><td>594,542</td></tr><tr><td>Black</td><td>CY2014-Mar</td><td>1,752,944</td><td>559,945</td></tr><tr><td>Black</td><td>CY2014-Apr</td><td>2,381,596</td><td>628,652</td></tr><tr><td>Black</td><td>CY2014-May</td><td>3,085,738</td><td>704,142</td></tr><tr><td>Black</td><td>CY2014-Jun</td><td>3,790,080</td><td>704,342</td></tr><tr><td>Black</td><td>CY2014-Jul</td><td>4,553,509</td><td>763,429</td></tr><tr><td>Black</td><td>CY2014-Aug</td><td>5,167,294</td><td>613,785</td></tr><tr><td>Black</td><td>CY2014-Sep</td><td>5,755,181</td><td>587,887</td></tr><tr><td>Black</td><td>CY2014-Oct</td><td>6,394,293</td><td>639,112</td></tr><tr><td>Black</td><td>CY2014-Nov</td><td>7,010,747</td><td>616,454</td></tr><tr><td>Black</td><td>CY2014-Dec</td><td>7,730,006</td><td>719,259</td></tr><tr><td>Blue</td><td>CY2014-Jan</td><td>881,713</td><td>881,713</td></tr><tr><td>Blue</td><td>CY2014-Feb</td><td>1,645,133</td><td>763,420</td></tr><tr><td>Blue</td><td>CY2014-Mar</td><td>2,455,306</td><td>810,173</td></tr><tr><td>Blue</td><td>CY2014-Apr</td><td>3,326,782</td><td>871,476</td></tr><tr><td>Blue</td><td>CY2014-May</td><td>4,171,391</td><td>844,609</td></tr><tr><td>Blue</td><td>CY2014-Jun</td><td>5,121,687</td><td>950,296</td></tr><tr><td>Blue</td><td>CY2014-Jul</td><td>6,035,241</td><td>913,554</td></tr><tr><td>Blue</td><td>CY2014-Aug</td><td>6,917,257</td><td>882,016</td></tr><tr><td>Blue</td><td>CY2014-Sep</td><td>7,693,136</td><td>775,879</td></tr><tr><td>Blue</td><td>CY2014-Oct</td><td>8,659,521</td><td>966,385</td></tr><tr><td>Blue</td><td>CY2014-Nov</td><td>9,506,386</td><td>846,865</td></tr><tr><td>Blue</td><td>CY2014-Dec</td><td>10,340,809</td><td>834,423</td></tr><tr><td>Gray</td><td>CY2014-Jan</td><td>128,800</td><td>128,800</td></tr><tr><td>Gray</td><td>CY2014-Feb</td><td>259,135</td><td>130,335</td></tr><tr><td>Gray</td><td>CY2014-Mar</td><td>389,847</td><td>130,712</td></tr><tr><td>Gray</td><td>CY2014-Apr</td><td>549,571</td><td>159,724</td></tr><tr><td>Gray</td><td>CY2014-May</td><td>713,753</td><td>164,182</td></tr><tr><td>Gray</td><td>CY2014-Jun</td><td>848,489</td><td>134,736</td></tr><tr><td>Gray</td><td>CY2014-Jul</td><td>1,032,435</td><td>183,946</td></tr><tr><td>Gray</td><td>CY2014-Aug</td><td>1,176,326</td><td>143,891</td></tr><tr><td>Gray</td><td>CY2014-Sep</td><td>1,309,687</td><td>133,361</td></tr><tr><td>Gray</td><td>CY2014-Oct</td><td>1,462,375</td><td>152,688</td></tr><tr><td>Gray</td><td>CY2014-Nov</td><td>1,602,484</td><td>140,109</td></tr><tr><td>Gray</td><td>CY2014-Dec</td><td>1,746,304</td><td>143,820</td></tr><tr><td>Light Brown</td><td>CY2014-Jan</td><td>129,600</td><td>129,600</td></tr><tr><td>Light Brown</td><td>CY2014-Feb</td><td>223,776</td><td>94,176</td></tr><tr><td>Light Brown</td><td>CY2014-Mar</td><td>355,104</td><td>131,328</td></tr><tr><td>Light Brown</td><td>CY2014-Apr</td><td>485,136</td><td>130,032</td></tr><tr><td>Light Brown</td><td>CY2014-May</td><td>610,848</td><td>125,712</td></tr><tr><td>Light Brown</td><td>CY2014-Jun</td><td>749,952</td><td>139,104</td></tr><tr><td>Light Brown</td><td>CY2014-Jul</td><td>868,752</td><td>118,800</td></tr><tr><td>Light Brown</td><td>CY2014-Aug</td><td>984,096</td><td>115,344</td></tr><tr><td>Light Brown</td><td>CY2014-Sep</td><td>1,084,536</td><td>100,440</td></tr><tr><td>Light Brown</td><td>CY2014-Oct</td><td>1,224,936</td><td>140,400</td></tr><tr><td>Light Brown</td><td>CY2014-Nov</td><td>1,338,336</td><td>113,400</td></tr><tr><td>Light Brown</td><td>CY2014-Dec</td><td>1,470,528</td><td>132,192</td></tr><tr><td>N/A</td><td>CY2014-Jan</td><td>1,789,895</td><td>1,789,895</td></tr><tr><td>N/A</td><td>CY2014-Feb</td><td>3,235,659.2</td><td>1,445,764.2</td></tr><tr><td>N/A</td><td>CY2014-Mar</td><td>4,965,660.95</td><td>1,730,001.75</td></tr><tr><td>N/A</td><td>CY2014-Apr</td><td>6,758,695.6</td><td>1,793,034.65</td></tr><tr><td>N/A</td><td>CY2014-May</td><td>8,976,280.7</td><td>2,217,585.1</td></tr><tr><td>N/A</td><td>CY2014-Jun</td><td>10,733,784.8</td><td>1,757,504.1</td></tr><tr><td>N/A</td><td>CY2014-Jul</td><td>13,003,023.85</td><td>2,269,239.05</td></tr><tr><td>N/A</td><td>CY2014-Aug</td><td>14,873,184.45</td><td>1,870,160.6</td></tr><tr><td>N/A</td><td>CY2014-Sep</td><td>16,678,072.3</td><td>1,804,887.85</td></tr><tr><td>N/A</td><td>CY2014-Oct</td><td>18,645,384.95</td><td>1,967,312.65</td></tr><tr><td>N/A</td><td>CY2014-Nov</td><td>20,472,383.4</td><td>1,826,998.45</td></tr><tr><td>N/A</td><td>CY2014-Dec</td><td>22,460,586.2</td><td>1,988,202.8</td></tr><tr><td>Red</td><td>CY2014-Jan</td><td>95,240</td><td>95,240</td></tr><tr><td>Red</td><td>CY2014-Feb</td><td>185,025</td><td>89,785</td></tr><tr><td>Red</td><td>CY2014-Mar</td><td>298,210</td><td>113,185</td></tr><tr><td>Red</td><td>CY2014-Apr</td><td>416,460</td><td>118,250</td></tr><tr><td>Red</td><td>CY2014-May</td><td>535,145</td><td>118,685</td></tr><tr><td>Red</td><td>CY2014-Jun</td><td>681,280</td><td>146,135</td></tr><tr><td>Red</td><td>CY2014-Jul</td><td>790,335</td><td>109,055</td></tr><tr><td>Red</td><td>CY2014-Aug</td><td>893,950</td><td>103,615</td></tr><tr><td>Red</td><td>CY2014-Sep</td><td>1,002,815</td><td>108,865</td></tr><tr><td>Red</td><td>CY2014-Oct</td><td>1,121,420</td><td>118,605</td></tr><tr><td>Red</td><td>CY2014-Nov</td><td>1,212,285</td><td>90,865</td></tr><tr><td>Red</td><td>CY2014-Dec</td><td>1,308,905</td><td>96,620</td></tr><tr><td>White</td><td>CY2014-Jan</td><td>410,203</td><td>410,203</td></tr><tr><td>White</td><td>CY2014-Feb</td><td>741,245</td><td>331,042</td></tr><tr><td>White</td><td>CY2014-Mar</td><td>1,100,829</td><td>359,584</td></tr><tr><td>White</td><td>CY2014-Apr</td><td>1,461,530</td><td>360,701</td></tr><tr><td>White</td><td>CY2014-May</td><td>1,838,814</td><td>377,284</td></tr><tr><td>White</td><td>CY2014-Jun</td><td>2,232,106</td><td>393,292</td></tr><tr><td>White</td><td>CY2014-Jul</td><td>2,628,734</td><td>396,628</td></tr><tr><td>White</td><td>CY2014-Aug</td><td>2,951,917</td><td>323,183</td></tr><tr><td>White</td><td>CY2014-Sep</td><td>3,285,316</td><td>333,399</td></tr><tr><td>White</td><td>CY2014-Oct</td><td>3,698,737</td><td>413,421</td></tr><tr><td>White</td><td>CY2014-Nov</td><td>4,054,648</td><td>355,911</td></tr><tr><td>White</td><td>CY2014-Dec</td><td>4,449,889</td><td>395,241</td></tr><tr><td>Yellow</td><td>CY2014-Jan</td><td>33,630</td><td>33,630</td></tr><tr><td>Yellow</td><td>CY2014-Feb</td><td>54,775</td><td>21,145</td></tr><tr><td>Yellow</td><td>CY2014-Mar</td><td>81,775</td><td>27,000</td></tr><tr><td>Yellow</td><td>CY2014-Apr</td><td>115,140</td><td>33,365</td></tr><tr><td>Yellow</td><td>CY2014-May</td><td>153,580</td><td>38,440</td></tr><tr><td>Yellow</td><td>CY2014-Jun</td><td>194,815</td><td>41,235</td></tr><tr><td>Yellow</td><td>CY2014-Jul</td><td>226,465</td><td>31,650</td></tr><tr><td>Yellow</td><td>CY2014-Aug</td><td>259,960</td><td>33,495</td></tr><tr><td>Yellow</td><td>CY2014-Sep</td><td>298,210</td><td>38,250</td></tr><tr><td>Yellow</td><td>CY2014-Oct</td><td>338,970</td><td>40,760</td></tr><tr><td>Yellow</td><td>CY2014-Nov</td><td>367,335</td><td>28,365</td></tr><tr><td>Yellow</td><td>CY2014-Dec</td><td>422,460</td><td>55,125</td></tr></table>"
                    },
                    "metadata": {}
                }
            ],
            "execution_count": 2
        },
        {
            "cell_type": "markdown",
            "source": [
                "\n",
                "If we'd like to so the same for 2015, we'd need to change the where clause. If we'd like to group for another attribute, we'd need to replace [Stock Item].[Color] with that attribute (e.g. [Stock Item].Brand). If the attribute belonged to another dimension, we'd have to change the query completely.\n",
                "\n",
                "\n",
                "On the other hand, on Power BI, we'd only need to define this DAX measure: `Sales YTD = TOTALYTD([Sales],'Dimension Date'[Date])`\n",
                "\n",
                "having defined measure `Sales = SUM('Fact Sale'[Total Excluding Tax])` to improve readability.\n",
                "\n",
                "Then we could create any report we'd like with YTD sales, for any year, for any customer, for any product... That would be achieved by simple drag-and-drop, for any of these attributes and any visual. We could also add filters and groupings at will. For example two reports showing YTD sales per color and brand could be the following:\n",
                "\n",
                "![](./files/YTD_Color.png)\n",
                "\n",
                "![](./files/YTD_Brand.png)\n",
                "\n",
                "Similarly, to calculate YoY (Year on Year) percentage sales increase between 2014 and 2013, we would do something like this:"
            ],
            "metadata": {
                "azdata_cell_guid": "808826f3-87a5-454d-8c74-dd0e75c55e5b"
            },
            "attachments": {}
        },
        {
            "cell_type": "code",
            "source": [
                "select \n",
                "Color\n",
                ",(sales - lag1)/lag1 as [YoY% Sales]\n",
                "\n",
                "FROM (\n",
                "        select \n",
                "        Color\n",
                "        ,[Invoice Year]\n",
                "        ,Revenue as Sales\n",
                "        ,Lag(Revenue,1,0) OVER (PARTITION BY color ORDER BY [Invoice Year]) as Lag1\n",
                "\n",
                "        FROM (\n",
                "\n",
                "            select P.[Color] Color\n",
                "            ,year(D.Date) as [Invoice Year]\n",
                "            ,sum(F.[Total Excluding Tax]) Revenue\n",
                "\n",
                "            from \n",
                "            fact.Sale F \n",
                "            JOIN dimension.[Stock Item] P on F.[Stock Item Key]=P.[Stock Item Key]\n",
                "            JOIN dimension.[Date] D on F.[Invoice Date Key]=D.[Date]\n",
                "\n",
                "            where year([invoice date key]) IN (2013,2014)\n",
                "\n",
                "            group by P.[Color], year(D.Date)\n",
                "        ) NESTED\n",
                "    ) NESTED1\n",
                "where [Invoice Year]=2014\n",
                "order by color"
            ],
            "metadata": {
                "azdata_cell_guid": "179e7ffa-191a-4a11-a0f3-c792c3d46e79"
            },
            "outputs": [
                {
                    "output_type": "display_data",
                    "data": {
                        "text/html": "(8 rows affected)"
                    },
                    "metadata": {}
                },
                {
                    "output_type": "display_data",
                    "data": {
                        "text/html": "Total execution time: 00:00:00.642"
                    },
                    "metadata": {}
                },
                {
                    "output_type": "execute_result",
                    "execution_count": 3,
                    "data": {
                        "application/vnd.dataresource+json": {
                            "schema": {
                                "fields": [
                                    {
                                        "name": "Color"
                                    },
                                    {
                                        "name": "YoY% Sales"
                                    }
                                ]
                            },
                            "data": [
                                {
                                    "0": "Black",
                                    "1": "0.108202"
                                },
                                {
                                    "0": "Blue",
                                    "1": "0.082444"
                                },
                                {
                                    "0": "Gray",
                                    "1": "0.098283"
                                },
                                {
                                    "0": "Light Brown",
                                    "1": "0.129021"
                                },
                                {
                                    "0": "N/A",
                                    "1": "0.097150"
                                },
                                {
                                    "0": "Red",
                                    "1": "0.063739"
                                },
                                {
                                    "0": "White",
                                    "1": "0.066177"
                                },
                                {
                                    "0": "Yellow",
                                    "1": "0.029636"
                                }
                            ]
                        },
                        "text/html": "<table><tr><th>Color</th><th>YoY% Sales</th></tr><tr><td>Black</td><td>0.108202</td></tr><tr><td>Blue</td><td>0.082444</td></tr><tr><td>Gray</td><td>0.098283</td></tr><tr><td>Light Brown</td><td>0.129021</td></tr><tr><td>N/A</td><td>0.097150</td></tr><tr><td>Red</td><td>0.063739</td></tr><tr><td>White</td><td>0.066177</td></tr><tr><td>Yellow</td><td>0.029636</td></tr></table>"
                    },
                    "metadata": {}
                }
            ],
            "execution_count": 3
        },
        {
            "cell_type": "markdown",
            "source": [
                "The DAX measure is also simple: `Sales YoY% = DIVIDE(\\[Sales\\]-\\[Sales Last Year\\],\\[Sales Last Year\\])\\`\n",
                "also having defined `Sales Last Year = CALCULATE([Sales],SAMEPERIODLASTYEAR('Dimension Date'[date]))` for readability.\n",
                "\n",
                "and can be used to create reports involving additional attributes, without requiring other code:\n",
                "\n",
                "![](./files/YoY_Color.png)\n",
                "\n",
                "![](./files/YoY_Brand.png)"
            ],
            "metadata": {
                "azdata_cell_guid": "79214fbd-729f-4306-b3e5-dbcbc51f38cb"
            },
            "attachments": {}
        },
        {
            "cell_type": "markdown",
            "source": [
                "It should be clear by now that, using just a couple of DAX measures, we can create any sort of visualizations, filtering and grouping by any attribute we want. Even if we add dimensions and attributes in our model, DAX measures we have already created will work for the new attributes as well. In SQL we would need to create additional queries for each and every filter / group combination we might need. \n",
                "\n",
                "  \n",
                "\n",
                "Consequently, using the correct tool for the correct problem, we can save significantly amount of development time and, as a matter of fact, improve execution performance. At the same time we enable self service reporting, as the person who designs the report or performs an analysis using visualizations, does not need to be the same person who wites the DAX."
            ],
            "metadata": {
                "azdata_cell_guid": "3cd77a80-ea31-479e-ad94-35c31a97d0ba"
            },
            "attachments": {}
        }
    ]
}